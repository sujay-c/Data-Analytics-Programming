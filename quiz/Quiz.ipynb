{
 "cells": [
  {
   "cell_type": "markdown",
   "metadata": {},
   "source": [
    "# Quiz August 3"
   ]
  },
  {
   "cell_type": "code",
   "execution_count": 1,
   "metadata": {},
   "outputs": [
    {
     "name": "stdout",
     "output_type": "stream",
     "text": [
      "Populating the interactive namespace from numpy and matplotlib\n"
     ]
    }
   ],
   "source": [
    "from pandas import Series, DataFrame\n",
    "import pandas as pd\n",
    "import re\n",
    "%pylab inline"
   ]
  },
  {
   "cell_type": "code",
   "execution_count": 2,
   "metadata": {},
   "outputs": [],
   "source": [
    "permits = pd.read_csv('permits.csv')"
   ]
  },
  {
   "cell_type": "code",
   "execution_count": 3,
   "metadata": {},
   "outputs": [
    {
     "data": {
      "text/plain": [
       "99788"
      ]
     },
     "execution_count": 3,
     "metadata": {},
     "output_type": "execute_result"
    }
   ],
   "source": [
    "len(permits)"
   ]
  },
  {
   "cell_type": "code",
   "execution_count": 4,
   "metadata": {},
   "outputs": [
    {
     "data": {
      "text/plain": [
       "array(['Work Type', \"Permittee's License Type\", 'Applicant Business Name',\n",
       "       'Estimated Job Costs', 'Approved Date', 'Issued Date',\n",
       "       'Owner Business Name'], dtype=object)"
      ]
     },
     "execution_count": 4,
     "metadata": {},
     "output_type": "execute_result"
    }
   ],
   "source": [
    "permits.columns.values"
   ]
  },
  {
   "cell_type": "markdown",
   "metadata": {},
   "source": [
    "### Question 1 - What is the most common *Work Type*?"
   ]
  },
  {
   "cell_type": "code",
   "execution_count": 5,
   "metadata": {},
   "outputs": [
    {
     "data": {
      "text/plain": [
       "Sidewalk Shed         28908\n",
       "Construction Fence    20628\n",
       "Supported Scaffold    14474\n",
       "Plumbing              10886\n",
       "Sign                   8430\n",
       "Mechanical Systems     6036\n",
       "Sprinklers             3466\n",
       "Antenna                2558\n",
       "Structural             1602\n",
       "Curb Cut               1437\n",
       "Boiler Equipment        937\n",
       "Standpipe               426\n",
       "Name: Work Type, dtype: int64"
      ]
     },
     "execution_count": 5,
     "metadata": {},
     "output_type": "execute_result"
    }
   ],
   "source": [
    "permits['Work Type'].value_counts()"
   ]
  },
  {
   "cell_type": "markdown",
   "metadata": {},
   "source": [
    "### Question 2 - How many permits have GREENACRE MANAGEMENT as the Owner Business Name?"
   ]
  },
  {
   "cell_type": "code",
   "execution_count": 6,
   "metadata": {},
   "outputs": [
    {
     "data": {
      "text/plain": [
       "8"
      ]
     },
     "execution_count": 6,
     "metadata": {},
     "output_type": "execute_result"
    }
   ],
   "source": [
    "len(permits[permits['Owner Business Name'] == 'GREENACRE MANAGEMENT'])"
   ]
  },
  {
   "cell_type": "markdown",
   "metadata": {},
   "source": [
    "### Question 3 - In how many permits is the *Applicant Business Name* not missing?"
   ]
  },
  {
   "cell_type": "code",
   "execution_count": 7,
   "metadata": {},
   "outputs": [
    {
     "data": {
      "text/plain": [
       "99502"
      ]
     },
     "execution_count": 7,
     "metadata": {},
     "output_type": "execute_result"
    }
   ],
   "source": [
    "len(permits[permits['Applicant Business Name'].notnull()])"
   ]
  },
  {
   "cell_type": "markdown",
   "metadata": {},
   "source": [
    "### Question 4 - How often is the *Owner Business Name* the same as the *Applicant Business Name*?"
   ]
  },
  {
   "cell_type": "code",
   "execution_count": 8,
   "metadata": {},
   "outputs": [
    {
     "data": {
      "text/plain": [
       "21053"
      ]
     },
     "execution_count": 8,
     "metadata": {},
     "output_type": "execute_result"
    }
   ],
   "source": [
    "len(permits[permits['Owner Business Name'] == permits['Applicant Business Name']])"
   ]
  },
  {
   "cell_type": "markdown",
   "metadata": {},
   "source": [
    "### Question 5 - Which Applicant Business Name works with the most unique Owner Business Names\n",
    "### (Solved)"
   ]
  },
  {
   "cell_type": "code",
   "execution_count": 9,
   "metadata": {},
   "outputs": [
    {
     "data": {
      "text/html": [
       "<div>\n",
       "<style scoped>\n",
       "    .dataframe tbody tr th:only-of-type {\n",
       "        vertical-align: middle;\n",
       "    }\n",
       "\n",
       "    .dataframe tbody tr th {\n",
       "        vertical-align: top;\n",
       "    }\n",
       "\n",
       "    .dataframe thead th {\n",
       "        text-align: right;\n",
       "    }\n",
       "</style>\n",
       "<table border=\"1\" class=\"dataframe\">\n",
       "  <thead>\n",
       "    <tr style=\"text-align: right;\">\n",
       "      <th></th>\n",
       "      <th>Applicant Business Name</th>\n",
       "      <th>Owner Business Name</th>\n",
       "    </tr>\n",
       "  </thead>\n",
       "  <tbody>\n",
       "    <tr>\n",
       "      <th>0</th>\n",
       "      <td>P.H. WORKS INC</td>\n",
       "      <td>GREENACRE MANAGEMENT</td>\n",
       "    </tr>\n",
       "    <tr>\n",
       "      <th>1</th>\n",
       "      <td>SILVERCUP SCFFLDNG I LLC</td>\n",
       "      <td>525 ST MARKS LLC</td>\n",
       "    </tr>\n",
       "    <tr>\n",
       "      <th>2</th>\n",
       "      <td>NEPTUNE SIGNS&amp;AWNINGS INC</td>\n",
       "      <td>BROTHER CAR SERVICE, INC</td>\n",
       "    </tr>\n",
       "    <tr>\n",
       "      <th>3</th>\n",
       "      <td>ROMA SCAFFOLDING INC</td>\n",
       "      <td>NYCHA</td>\n",
       "    </tr>\n",
       "    <tr>\n",
       "      <th>4</th>\n",
       "      <td>H BRONNER &amp; SON PLBG &amp; HT</td>\n",
       "      <td>PR</td>\n",
       "    </tr>\n",
       "    <tr>\n",
       "      <th>...</th>\n",
       "      <td>...</td>\n",
       "      <td>...</td>\n",
       "    </tr>\n",
       "    <tr>\n",
       "      <th>99530</th>\n",
       "      <td>BELL FUEL OIL, LLC</td>\n",
       "      <td>NAMINORI</td>\n",
       "    </tr>\n",
       "    <tr>\n",
       "      <th>99581</th>\n",
       "      <td>KDL CONSTRUCTION &amp; DEVELO</td>\n",
       "      <td>253-255 NOSTRAND LLC</td>\n",
       "    </tr>\n",
       "    <tr>\n",
       "      <th>99744</th>\n",
       "      <td>DONE RIGHT KITCHEN EXHAUS</td>\n",
       "      <td>A &amp; A DELI GROCERY</td>\n",
       "    </tr>\n",
       "    <tr>\n",
       "      <th>99745</th>\n",
       "      <td>PSP NY CONSTRUCTION, INC</td>\n",
       "      <td>JD 840 EAST NEW YORK FOOD CORP.</td>\n",
       "    </tr>\n",
       "    <tr>\n",
       "      <th>99763</th>\n",
       "      <td>PRESTIGIOUS MAINTENANCE I</td>\n",
       "      <td>CHAPIMEX DELI CORP.</td>\n",
       "    </tr>\n",
       "  </tbody>\n",
       "</table>\n",
       "<p>10329 rows × 2 columns</p>\n",
       "</div>"
      ],
      "text/plain": [
       "         Applicant Business Name              Owner Business Name\n",
       "0                 P.H. WORKS INC             GREENACRE MANAGEMENT\n",
       "1       SILVERCUP SCFFLDNG I LLC                 525 ST MARKS LLC\n",
       "2      NEPTUNE SIGNS&AWNINGS INC         BROTHER CAR SERVICE, INC\n",
       "3           ROMA SCAFFOLDING INC                            NYCHA\n",
       "4      H BRONNER & SON PLBG & HT                               PR\n",
       "...                          ...                              ...\n",
       "99530         BELL FUEL OIL, LLC                         NAMINORI\n",
       "99581  KDL CONSTRUCTION & DEVELO             253-255 NOSTRAND LLC\n",
       "99744  DONE RIGHT KITCHEN EXHAUS               A & A DELI GROCERY\n",
       "99745   PSP NY CONSTRUCTION, INC  JD 840 EAST NEW YORK FOOD CORP.\n",
       "99763  PRESTIGIOUS MAINTENANCE I              CHAPIMEX DELI CORP.\n",
       "\n",
       "[10329 rows x 2 columns]"
      ]
     },
     "execution_count": 9,
     "metadata": {},
     "output_type": "execute_result"
    }
   ],
   "source": [
    "unique_owner = permits[['Applicant Business Name', 'Owner Business Name']].drop_duplicates(['Owner Business Name']).dropna()\n",
    "unique_owner"
   ]
  },
  {
   "cell_type": "code",
   "execution_count": 10,
   "metadata": {},
   "outputs": [
    {
     "data": {
      "text/plain": [
       "EVEREST SCAFFOLDING INC      409\n",
       "NEPTUNE SIGNS&AWNINGS INC    400\n",
       "SILVERCUP SCFFLDNG I LLC     192\n",
       "ARSENAL SCAFFOLD INC         134\n",
       "CS BRIDGE CORP               128\n",
       "                            ... \n",
       "VS MANAGEMENT PLUS,INC         1\n",
       "RANSHAW PLBG & HTG LLC         1\n",
       "WKR CONSTRUCTION, INC          1\n",
       "URBAN CNSTION SRVCS GROUP      1\n",
       "JOHN CIVETTA & SONS INC        1\n",
       "Name: Applicant Business Name, Length: 3184, dtype: int64"
      ]
     },
     "execution_count": 10,
     "metadata": {},
     "output_type": "execute_result"
    }
   ],
   "source": [
    "unique_owner['Applicant Business Name'].value_counts()"
   ]
  },
  {
   "cell_type": "markdown",
   "metadata": {},
   "source": [
    "### Question 6 - Among permits where the Work Type is Plumbing, what is the most common Permittee's License Type?"
   ]
  },
  {
   "cell_type": "code",
   "execution_count": 11,
   "metadata": {},
   "outputs": [],
   "source": [
    "plumbing = permits[permits['Work Type'] == 'Plumbing']"
   ]
  },
  {
   "cell_type": "code",
   "execution_count": 12,
   "metadata": {},
   "outputs": [
    {
     "data": {
      "text/plain": [
       "P     10883\n",
       "PR        2\n",
       "GC        1\n",
       "Name: Permittee's License Type, dtype: int64"
      ]
     },
     "execution_count": 12,
     "metadata": {},
     "output_type": "execute_result"
    }
   ],
   "source": [
    "plumbing[\"Permittee's License Type\"].value_counts()"
   ]
  },
  {
   "cell_type": "markdown",
   "metadata": {},
   "source": [
    "### Question 7 - Which Permittee's License Types are allowed to work on exactly 6 different Work Types?\n",
    "### (Solved)"
   ]
  },
  {
   "cell_type": "code",
   "execution_count": 13,
   "metadata": {},
   "outputs": [
    {
     "data": {
      "text/html": [
       "<div>\n",
       "<style scoped>\n",
       "    .dataframe tbody tr th:only-of-type {\n",
       "        vertical-align: middle;\n",
       "    }\n",
       "\n",
       "    .dataframe tbody tr th {\n",
       "        vertical-align: top;\n",
       "    }\n",
       "\n",
       "    .dataframe thead th {\n",
       "        text-align: right;\n",
       "    }\n",
       "</style>\n",
       "<table border=\"1\" class=\"dataframe\">\n",
       "  <thead>\n",
       "    <tr style=\"text-align: right;\">\n",
       "      <th></th>\n",
       "      <th>Work Type</th>\n",
       "      <th>Permittee's License Type</th>\n",
       "    </tr>\n",
       "  </thead>\n",
       "  <tbody>\n",
       "    <tr>\n",
       "      <th>0</th>\n",
       "      <td>Plumbing</td>\n",
       "      <td>P</td>\n",
       "    </tr>\n",
       "    <tr>\n",
       "      <th>1</th>\n",
       "      <td>Sidewalk Shed</td>\n",
       "      <td>GC</td>\n",
       "    </tr>\n",
       "    <tr>\n",
       "      <th>2</th>\n",
       "      <td>Sign</td>\n",
       "      <td>S</td>\n",
       "    </tr>\n",
       "    <tr>\n",
       "      <th>8</th>\n",
       "      <td>Construction Fence</td>\n",
       "      <td>GC</td>\n",
       "    </tr>\n",
       "    <tr>\n",
       "      <th>9</th>\n",
       "      <td>Supported Scaffold</td>\n",
       "      <td>GC</td>\n",
       "    </tr>\n",
       "    <tr>\n",
       "      <th>19</th>\n",
       "      <td>Mechanical Systems</td>\n",
       "      <td>GC</td>\n",
       "    </tr>\n",
       "    <tr>\n",
       "      <th>25</th>\n",
       "      <td>Boiler Equipment</td>\n",
       "      <td>P</td>\n",
       "    </tr>\n",
       "    <tr>\n",
       "      <th>26</th>\n",
       "      <td>Antenna</td>\n",
       "      <td>GC</td>\n",
       "    </tr>\n",
       "    <tr>\n",
       "      <th>28</th>\n",
       "      <td>Sprinklers</td>\n",
       "      <td>F</td>\n",
       "    </tr>\n",
       "    <tr>\n",
       "      <th>33</th>\n",
       "      <td>Curb Cut</td>\n",
       "      <td>GC</td>\n",
       "    </tr>\n",
       "    <tr>\n",
       "      <th>89</th>\n",
       "      <td>Standpipe</td>\n",
       "      <td>F</td>\n",
       "    </tr>\n",
       "    <tr>\n",
       "      <th>99</th>\n",
       "      <td>Boiler Equipment</td>\n",
       "      <td>O</td>\n",
       "    </tr>\n",
       "    <tr>\n",
       "      <th>158</th>\n",
       "      <td>Construction Fence</td>\n",
       "      <td>PR</td>\n",
       "    </tr>\n",
       "    <tr>\n",
       "      <th>161</th>\n",
       "      <td>Structural</td>\n",
       "      <td>GC</td>\n",
       "    </tr>\n",
       "    <tr>\n",
       "      <th>2158</th>\n",
       "      <td>Construction Fence</td>\n",
       "      <td>RA</td>\n",
       "    </tr>\n",
       "    <tr>\n",
       "      <th>2816</th>\n",
       "      <td>Curb Cut</td>\n",
       "      <td>PE</td>\n",
       "    </tr>\n",
       "    <tr>\n",
       "      <th>3013</th>\n",
       "      <td>Sign</td>\n",
       "      <td>GC</td>\n",
       "    </tr>\n",
       "    <tr>\n",
       "      <th>4392</th>\n",
       "      <td>Construction Fence</td>\n",
       "      <td>PE</td>\n",
       "    </tr>\n",
       "    <tr>\n",
       "      <th>4633</th>\n",
       "      <td>Mechanical Systems</td>\n",
       "      <td>PE</td>\n",
       "    </tr>\n",
       "    <tr>\n",
       "      <th>14101</th>\n",
       "      <td>Mechanical Systems</td>\n",
       "      <td>RA</td>\n",
       "    </tr>\n",
       "    <tr>\n",
       "      <th>14662</th>\n",
       "      <td>Supported Scaffold</td>\n",
       "      <td>PE</td>\n",
       "    </tr>\n",
       "    <tr>\n",
       "      <th>20374</th>\n",
       "      <td>Supported Scaffold</td>\n",
       "      <td>PR</td>\n",
       "    </tr>\n",
       "    <tr>\n",
       "      <th>21435</th>\n",
       "      <td>Structural</td>\n",
       "      <td>PE</td>\n",
       "    </tr>\n",
       "    <tr>\n",
       "      <th>24624</th>\n",
       "      <td>Curb Cut</td>\n",
       "      <td>RA</td>\n",
       "    </tr>\n",
       "    <tr>\n",
       "      <th>39152</th>\n",
       "      <td>Sprinklers</td>\n",
       "      <td>P</td>\n",
       "    </tr>\n",
       "    <tr>\n",
       "      <th>41305</th>\n",
       "      <td>Mechanical Systems</td>\n",
       "      <td>P</td>\n",
       "    </tr>\n",
       "    <tr>\n",
       "      <th>43409</th>\n",
       "      <td>Sidewalk Shed</td>\n",
       "      <td>PE</td>\n",
       "    </tr>\n",
       "    <tr>\n",
       "      <th>48204</th>\n",
       "      <td>Curb Cut</td>\n",
       "      <td>PR</td>\n",
       "    </tr>\n",
       "    <tr>\n",
       "      <th>54364</th>\n",
       "      <td>Standpipe</td>\n",
       "      <td>P</td>\n",
       "    </tr>\n",
       "    <tr>\n",
       "      <th>83730</th>\n",
       "      <td>Plumbing</td>\n",
       "      <td>GC</td>\n",
       "    </tr>\n",
       "    <tr>\n",
       "      <th>84754</th>\n",
       "      <td>Sprinklers</td>\n",
       "      <td>PR</td>\n",
       "    </tr>\n",
       "    <tr>\n",
       "      <th>85008</th>\n",
       "      <td>Plumbing</td>\n",
       "      <td>PR</td>\n",
       "    </tr>\n",
       "    <tr>\n",
       "      <th>85485</th>\n",
       "      <td>Sign</td>\n",
       "      <td>PR</td>\n",
       "    </tr>\n",
       "  </tbody>\n",
       "</table>\n",
       "</div>"
      ],
      "text/plain": [
       "                Work Type Permittee's License Type\n",
       "0                Plumbing                        P\n",
       "1           Sidewalk Shed                       GC\n",
       "2                    Sign                        S\n",
       "8      Construction Fence                       GC\n",
       "9      Supported Scaffold                       GC\n",
       "19     Mechanical Systems                       GC\n",
       "25       Boiler Equipment                        P\n",
       "26                Antenna                       GC\n",
       "28             Sprinklers                        F\n",
       "33               Curb Cut                       GC\n",
       "89              Standpipe                        F\n",
       "99       Boiler Equipment                        O\n",
       "158    Construction Fence                       PR\n",
       "161            Structural                       GC\n",
       "2158   Construction Fence                       RA\n",
       "2816             Curb Cut                       PE\n",
       "3013                 Sign                       GC\n",
       "4392   Construction Fence                       PE\n",
       "4633   Mechanical Systems                       PE\n",
       "14101  Mechanical Systems                       RA\n",
       "14662  Supported Scaffold                       PE\n",
       "20374  Supported Scaffold                       PR\n",
       "21435          Structural                       PE\n",
       "24624            Curb Cut                       RA\n",
       "39152          Sprinklers                        P\n",
       "41305  Mechanical Systems                        P\n",
       "43409       Sidewalk Shed                       PE\n",
       "48204            Curb Cut                       PR\n",
       "54364           Standpipe                        P\n",
       "83730            Plumbing                       GC\n",
       "84754          Sprinklers                       PR\n",
       "85008            Plumbing                       PR\n",
       "85485                Sign                       PR"
      ]
     },
     "execution_count": 13,
     "metadata": {},
     "output_type": "execute_result"
    }
   ],
   "source": [
    "permittee = permits[['Work Type', \"Permittee's License Type\"]].drop_duplicates()\n",
    "permittee"
   ]
  },
  {
   "cell_type": "code",
   "execution_count": 14,
   "metadata": {},
   "outputs": [
    {
     "data": {
      "text/plain": [
       "GC    9\n",
       "PR    6\n",
       "PE    6\n",
       "P     5\n",
       "RA    3\n",
       "F     2\n",
       "S     1\n",
       "O     1\n",
       "Name: Permittee's License Type, dtype: int64"
      ]
     },
     "execution_count": 14,
     "metadata": {},
     "output_type": "execute_result"
    }
   ],
   "source": [
    "permittee[\"Permittee's License Type\"].value_counts()"
   ]
  },
  {
   "cell_type": "markdown",
   "metadata": {},
   "source": [
    "### Question 8 - For each Applicant Business Name, figure out the average \"Estimated Job Costs\". Find the name of the Applicant Business Name that has the 5th highest average job cost."
   ]
  },
  {
   "cell_type": "code",
   "execution_count": 15,
   "metadata": {},
   "outputs": [],
   "source": [
    "Avg_job_cost = permits.groupby('Applicant Business Name')[['Estimated Job Costs']].mean()\n",
    "Avg_job_cost.columns = ['Average Estimated Job Costs']"
   ]
  },
  {
   "cell_type": "code",
   "execution_count": 16,
   "metadata": {},
   "outputs": [],
   "source": [
    "Avg_job_cost = Avg_job_cost.sort_values(by = 'Average Estimated Job Costs', ascending = False)"
   ]
  },
  {
   "cell_type": "code",
   "execution_count": 17,
   "metadata": {},
   "outputs": [
    {
     "data": {
      "text/html": [
       "<div>\n",
       "<style scoped>\n",
       "    .dataframe tbody tr th:only-of-type {\n",
       "        vertical-align: middle;\n",
       "    }\n",
       "\n",
       "    .dataframe tbody tr th {\n",
       "        vertical-align: top;\n",
       "    }\n",
       "\n",
       "    .dataframe thead th {\n",
       "        text-align: right;\n",
       "    }\n",
       "</style>\n",
       "<table border=\"1\" class=\"dataframe\">\n",
       "  <thead>\n",
       "    <tr style=\"text-align: right;\">\n",
       "      <th></th>\n",
       "      <th>Average Estimated Job Costs</th>\n",
       "    </tr>\n",
       "    <tr>\n",
       "      <th>Applicant Business Name</th>\n",
       "      <th></th>\n",
       "    </tr>\n",
       "  </thead>\n",
       "  <tbody>\n",
       "    <tr>\n",
       "      <th>ADAM'S EUROPEAN CONTRACTI</th>\n",
       "      <td>9.250568e+07</td>\n",
       "    </tr>\n",
       "    <tr>\n",
       "      <th>ZOI CONTRACTING INC</th>\n",
       "      <td>5.220384e+06</td>\n",
       "    </tr>\n",
       "    <tr>\n",
       "      <th>DYNAMIC US, INC</th>\n",
       "      <td>5.008000e+06</td>\n",
       "    </tr>\n",
       "    <tr>\n",
       "      <th>INFINITY CONTRACTING SERV</th>\n",
       "      <td>4.877476e+06</td>\n",
       "    </tr>\n",
       "    <tr>\n",
       "      <th>DPR CONSTRUCTION</th>\n",
       "      <td>4.321188e+06</td>\n",
       "    </tr>\n",
       "  </tbody>\n",
       "</table>\n",
       "</div>"
      ],
      "text/plain": [
       "                           Average Estimated Job Costs\n",
       "Applicant Business Name                               \n",
       "ADAM'S EUROPEAN CONTRACTI                 9.250568e+07\n",
       "ZOI CONTRACTING INC                       5.220384e+06\n",
       "DYNAMIC US, INC                           5.008000e+06\n",
       "INFINITY CONTRACTING SERV                 4.877476e+06\n",
       "DPR CONSTRUCTION                          4.321188e+06"
      ]
     },
     "execution_count": 17,
     "metadata": {},
     "output_type": "execute_result"
    }
   ],
   "source": [
    "Avg_job_cost[:5]"
   ]
  },
  {
   "cell_type": "markdown",
   "metadata": {},
   "source": [
    "### Question 9 - How many unique Applicant Business Names have INC as the *last* word?"
   ]
  },
  {
   "cell_type": "code",
   "execution_count": 18,
   "metadata": {},
   "outputs": [
    {
     "data": {
      "text/html": [
       "<div>\n",
       "<style scoped>\n",
       "    .dataframe tbody tr th:only-of-type {\n",
       "        vertical-align: middle;\n",
       "    }\n",
       "\n",
       "    .dataframe tbody tr th {\n",
       "        vertical-align: top;\n",
       "    }\n",
       "\n",
       "    .dataframe thead th {\n",
       "        text-align: right;\n",
       "    }\n",
       "</style>\n",
       "<table border=\"1\" class=\"dataframe\">\n",
       "  <thead>\n",
       "    <tr style=\"text-align: right;\">\n",
       "      <th></th>\n",
       "      <th>Applicant Business Name</th>\n",
       "      <th>Work Type</th>\n",
       "    </tr>\n",
       "  </thead>\n",
       "  <tbody>\n",
       "    <tr>\n",
       "      <th>0</th>\n",
       "      <td>P.H. WORKS INC</td>\n",
       "      <td>Plumbing</td>\n",
       "    </tr>\n",
       "    <tr>\n",
       "      <th>1</th>\n",
       "      <td>SILVERCUP SCFFLDNG I LLC</td>\n",
       "      <td>Sidewalk Shed</td>\n",
       "    </tr>\n",
       "    <tr>\n",
       "      <th>2</th>\n",
       "      <td>NEPTUNE SIGNS&amp;AWNINGS INC</td>\n",
       "      <td>Sign</td>\n",
       "    </tr>\n",
       "    <tr>\n",
       "      <th>3</th>\n",
       "      <td>ROMA SCAFFOLDING INC</td>\n",
       "      <td>Sidewalk Shed</td>\n",
       "    </tr>\n",
       "    <tr>\n",
       "      <th>4</th>\n",
       "      <td>H BRONNER &amp; SON PLBG &amp; HT</td>\n",
       "      <td>Plumbing</td>\n",
       "    </tr>\n",
       "    <tr>\n",
       "      <th>...</th>\n",
       "      <td>...</td>\n",
       "      <td>...</td>\n",
       "    </tr>\n",
       "    <tr>\n",
       "      <th>99237</th>\n",
       "      <td>IDEAL PLUMBING CORP</td>\n",
       "      <td>Plumbing</td>\n",
       "    </tr>\n",
       "    <tr>\n",
       "      <th>99431</th>\n",
       "      <td>M. RAHMAN CONSTRUCTION CO</td>\n",
       "      <td>Construction Fence</td>\n",
       "    </tr>\n",
       "    <tr>\n",
       "      <th>99566</th>\n",
       "      <td>ZOUBEAR INC</td>\n",
       "      <td>Structural</td>\n",
       "    </tr>\n",
       "    <tr>\n",
       "      <th>99745</th>\n",
       "      <td>PSP NY CONSTRUCTION, INC</td>\n",
       "      <td>Construction Fence</td>\n",
       "    </tr>\n",
       "    <tr>\n",
       "      <th>99749</th>\n",
       "      <td>KABACK ENTERPRISES</td>\n",
       "      <td>Mechanical Systems</td>\n",
       "    </tr>\n",
       "  </tbody>\n",
       "</table>\n",
       "<p>5461 rows × 2 columns</p>\n",
       "</div>"
      ],
      "text/plain": [
       "         Applicant Business Name           Work Type\n",
       "0                 P.H. WORKS INC            Plumbing\n",
       "1       SILVERCUP SCFFLDNG I LLC       Sidewalk Shed\n",
       "2      NEPTUNE SIGNS&AWNINGS INC                Sign\n",
       "3           ROMA SCAFFOLDING INC       Sidewalk Shed\n",
       "4      H BRONNER & SON PLBG & HT            Plumbing\n",
       "...                          ...                 ...\n",
       "99237        IDEAL PLUMBING CORP            Plumbing\n",
       "99431  M. RAHMAN CONSTRUCTION CO  Construction Fence\n",
       "99566                ZOUBEAR INC          Structural\n",
       "99745   PSP NY CONSTRUCTION, INC  Construction Fence\n",
       "99749         KABACK ENTERPRISES  Mechanical Systems\n",
       "\n",
       "[5461 rows x 2 columns]"
      ]
     },
     "execution_count": 18,
     "metadata": {},
     "output_type": "execute_result"
    }
   ],
   "source": [
    "unique_applicant = permits[['Applicant Business Name', 'Work Type']].drop_duplicates('Applicant Business Name').dropna()\n",
    "unique_applicant"
   ]
  },
  {
   "cell_type": "code",
   "execution_count": 19,
   "metadata": {},
   "outputs": [
    {
     "data": {
      "text/html": [
       "<div>\n",
       "<style scoped>\n",
       "    .dataframe tbody tr th:only-of-type {\n",
       "        vertical-align: middle;\n",
       "    }\n",
       "\n",
       "    .dataframe tbody tr th {\n",
       "        vertical-align: top;\n",
       "    }\n",
       "\n",
       "    .dataframe thead th {\n",
       "        text-align: right;\n",
       "    }\n",
       "</style>\n",
       "<table border=\"1\" class=\"dataframe\">\n",
       "  <thead>\n",
       "    <tr style=\"text-align: right;\">\n",
       "      <th></th>\n",
       "      <th>Suffix</th>\n",
       "    </tr>\n",
       "  </thead>\n",
       "  <tbody>\n",
       "    <tr>\n",
       "      <th>0</th>\n",
       "      <td>INC</td>\n",
       "    </tr>\n",
       "    <tr>\n",
       "      <th>1</th>\n",
       "      <td>LLC</td>\n",
       "    </tr>\n",
       "    <tr>\n",
       "      <th>2</th>\n",
       "      <td>INC</td>\n",
       "    </tr>\n",
       "    <tr>\n",
       "      <th>3</th>\n",
       "      <td>INC</td>\n",
       "    </tr>\n",
       "    <tr>\n",
       "      <th>4</th>\n",
       "      <td>HT</td>\n",
       "    </tr>\n",
       "    <tr>\n",
       "      <th>...</th>\n",
       "      <td>...</td>\n",
       "    </tr>\n",
       "    <tr>\n",
       "      <th>99237</th>\n",
       "      <td>CORP</td>\n",
       "    </tr>\n",
       "    <tr>\n",
       "      <th>99431</th>\n",
       "      <td>CO</td>\n",
       "    </tr>\n",
       "    <tr>\n",
       "      <th>99566</th>\n",
       "      <td>INC</td>\n",
       "    </tr>\n",
       "    <tr>\n",
       "      <th>99745</th>\n",
       "      <td>INC</td>\n",
       "    </tr>\n",
       "    <tr>\n",
       "      <th>99749</th>\n",
       "      <td>ENTERPRISES</td>\n",
       "    </tr>\n",
       "  </tbody>\n",
       "</table>\n",
       "<p>5461 rows × 1 columns</p>\n",
       "</div>"
      ],
      "text/plain": [
       "            Suffix\n",
       "0              INC\n",
       "1              LLC\n",
       "2              INC\n",
       "3              INC\n",
       "4               HT\n",
       "...            ...\n",
       "99237         CORP\n",
       "99431           CO\n",
       "99566          INC\n",
       "99745          INC\n",
       "99749  ENTERPRISES\n",
       "\n",
       "[5461 rows x 1 columns]"
      ]
     },
     "execution_count": 19,
     "metadata": {},
     "output_type": "execute_result"
    }
   ],
   "source": [
    "unique_applicant[\"Suffix\"] = unique_applicant[\"Applicant Business Name\"].str.split().str[-1]\n",
    "unique_applicant[[\"Suffix\"]]"
   ]
  },
  {
   "cell_type": "code",
   "execution_count": 20,
   "metadata": {},
   "outputs": [
    {
     "data": {
      "text/html": [
       "<div>\n",
       "<style scoped>\n",
       "    .dataframe tbody tr th:only-of-type {\n",
       "        vertical-align: middle;\n",
       "    }\n",
       "\n",
       "    .dataframe tbody tr th {\n",
       "        vertical-align: top;\n",
       "    }\n",
       "\n",
       "    .dataframe thead th {\n",
       "        text-align: right;\n",
       "    }\n",
       "</style>\n",
       "<table border=\"1\" class=\"dataframe\">\n",
       "  <thead>\n",
       "    <tr style=\"text-align: right;\">\n",
       "      <th></th>\n",
       "      <th>Applicant Business Name</th>\n",
       "      <th>Work Type</th>\n",
       "      <th>Suffix</th>\n",
       "    </tr>\n",
       "  </thead>\n",
       "  <tbody>\n",
       "    <tr>\n",
       "      <th>0</th>\n",
       "      <td>P.H. WORKS INC</td>\n",
       "      <td>Plumbing</td>\n",
       "      <td>INC</td>\n",
       "    </tr>\n",
       "    <tr>\n",
       "      <th>2</th>\n",
       "      <td>NEPTUNE SIGNS&amp;AWNINGS INC</td>\n",
       "      <td>Sign</td>\n",
       "      <td>INC</td>\n",
       "    </tr>\n",
       "    <tr>\n",
       "      <th>3</th>\n",
       "      <td>ROMA SCAFFOLDING INC</td>\n",
       "      <td>Sidewalk Shed</td>\n",
       "      <td>INC</td>\n",
       "    </tr>\n",
       "    <tr>\n",
       "      <th>5</th>\n",
       "      <td>KAJ NY CONSTRUCTION INC</td>\n",
       "      <td>Sidewalk Shed</td>\n",
       "      <td>INC</td>\n",
       "    </tr>\n",
       "    <tr>\n",
       "      <th>8</th>\n",
       "      <td>CORE SCAFFOLD SYSTEMS INC</td>\n",
       "      <td>Construction Fence</td>\n",
       "      <td>INC</td>\n",
       "    </tr>\n",
       "    <tr>\n",
       "      <th>...</th>\n",
       "      <td>...</td>\n",
       "      <td>...</td>\n",
       "      <td>...</td>\n",
       "    </tr>\n",
       "    <tr>\n",
       "      <th>98410</th>\n",
       "      <td>NKG CONTRACTING INC</td>\n",
       "      <td>Structural</td>\n",
       "      <td>INC</td>\n",
       "    </tr>\n",
       "    <tr>\n",
       "      <th>98513</th>\n",
       "      <td>SAM'S AIRCONDITIONING INC</td>\n",
       "      <td>Mechanical Systems</td>\n",
       "      <td>INC</td>\n",
       "    </tr>\n",
       "    <tr>\n",
       "      <th>99187</th>\n",
       "      <td>NT INTERNATIONAL INC</td>\n",
       "      <td>Mechanical Systems</td>\n",
       "      <td>INC</td>\n",
       "    </tr>\n",
       "    <tr>\n",
       "      <th>99566</th>\n",
       "      <td>ZOUBEAR INC</td>\n",
       "      <td>Structural</td>\n",
       "      <td>INC</td>\n",
       "    </tr>\n",
       "    <tr>\n",
       "      <th>99745</th>\n",
       "      <td>PSP NY CONSTRUCTION, INC</td>\n",
       "      <td>Construction Fence</td>\n",
       "      <td>INC</td>\n",
       "    </tr>\n",
       "  </tbody>\n",
       "</table>\n",
       "<p>1733 rows × 3 columns</p>\n",
       "</div>"
      ],
      "text/plain": [
       "         Applicant Business Name           Work Type Suffix\n",
       "0                 P.H. WORKS INC            Plumbing    INC\n",
       "2      NEPTUNE SIGNS&AWNINGS INC                Sign    INC\n",
       "3           ROMA SCAFFOLDING INC       Sidewalk Shed    INC\n",
       "5        KAJ NY CONSTRUCTION INC       Sidewalk Shed    INC\n",
       "8      CORE SCAFFOLD SYSTEMS INC  Construction Fence    INC\n",
       "...                          ...                 ...    ...\n",
       "98410        NKG CONTRACTING INC          Structural    INC\n",
       "98513  SAM'S AIRCONDITIONING INC  Mechanical Systems    INC\n",
       "99187       NT INTERNATIONAL INC  Mechanical Systems    INC\n",
       "99566                ZOUBEAR INC          Structural    INC\n",
       "99745   PSP NY CONSTRUCTION, INC  Construction Fence    INC\n",
       "\n",
       "[1733 rows x 3 columns]"
      ]
     },
     "execution_count": 20,
     "metadata": {},
     "output_type": "execute_result"
    }
   ],
   "source": [
    "unique_applicant[unique_applicant[\"Suffix\"] == \"INC\"]"
   ]
  },
  {
   "cell_type": "markdown",
   "metadata": {},
   "source": [
    "### Question 10 - What is the maximum number of permits issued on any date? You need to look at the Issued Date. You can ignore the time at which the permit is issued, and just consider the date. Each row corresponds to one permit being issued.\n",
    "### (Solved, but silly mistake first time around. I filtered *Approved Date* instead of *Issued Date.*)"
   ]
  },
  {
   "cell_type": "code",
   "execution_count": 21,
   "metadata": {},
   "outputs": [],
   "source": [
    "permits['Approved Date'] = pd.to_datetime(permits['Approved Date'])"
   ]
  },
  {
   "cell_type": "code",
   "execution_count": 22,
   "metadata": {},
   "outputs": [],
   "source": [
    "permits_by_approved_date = permits['Approved Date'].value_counts()"
   ]
  },
  {
   "cell_type": "code",
   "execution_count": 23,
   "metadata": {},
   "outputs": [
    {
     "data": {
      "text/plain": [
       "2019-11-08 00:00:00    325\n",
       "2019-11-12 00:00:00    317\n",
       "2019-11-19 00:00:00    311\n",
       "2019-09-10 00:00:00    303\n",
       "2020-02-18 00:00:00    301\n",
       "                      ... \n",
       "2019-09-03 09:31:00      1\n",
       "2020-03-02 09:36:00      1\n",
       "2019-12-05 10:24:00      1\n",
       "2018-03-14 15:10:00      1\n",
       "2019-04-25 09:02:00      1\n",
       "Name: Approved Date, Length: 4422, dtype: int64"
      ]
     },
     "execution_count": 23,
     "metadata": {},
     "output_type": "execute_result"
    }
   ],
   "source": [
    "permits_by_approved_date"
   ]
  },
  {
   "cell_type": "code",
   "execution_count": 24,
   "metadata": {},
   "outputs": [],
   "source": [
    "permits['Issued Date'] = pd.to_datetime(permits['Issued Date'])"
   ]
  },
  {
   "cell_type": "code",
   "execution_count": 25,
   "metadata": {},
   "outputs": [],
   "source": [
    "permits_by_issued_date = permits['Issued Date'].value_counts()"
   ]
  },
  {
   "cell_type": "code",
   "execution_count": 26,
   "metadata": {},
   "outputs": [
    {
     "data": {
      "text/plain": [
       "2020-02-28    463\n",
       "2020-03-03    413\n",
       "2020-03-19    386\n",
       "2020-07-16    379\n",
       "2020-02-14    374\n",
       "             ... \n",
       "2019-06-22      1\n",
       "2016-10-06      1\n",
       "2017-09-21      1\n",
       "2020-06-06      1\n",
       "2016-09-20      1\n",
       "Name: Issued Date, Length: 811, dtype: int64"
      ]
     },
     "execution_count": 26,
     "metadata": {},
     "output_type": "execute_result"
    }
   ],
   "source": [
    "permits_by_issued_date"
   ]
  },
  {
   "cell_type": "markdown",
   "metadata": {},
   "source": [
    "### Question 11 - How many instances are there where the \"Issued Date\" is earlier than the \"Approved Date\" Sometimes they are both on the same day, but the issued date is an earlier hour/min/sec than the Approved Date. Count these instances as well in your answer."
   ]
  },
  {
   "cell_type": "code",
   "execution_count": 27,
   "metadata": {},
   "outputs": [
    {
     "data": {
      "text/plain": [
       "2963"
      ]
     },
     "execution_count": 27,
     "metadata": {},
     "output_type": "execute_result"
    }
   ],
   "source": [
    "len(permits[permits['Issued Date'] < permits['Approved Date']])"
   ]
  },
  {
   "cell_type": "markdown",
   "metadata": {},
   "source": [
    "### Question 12: \n",
    "\n",
    "The similarity between two Owner Business Names is the number of unique Applicant Business Names who have worked with both the Owners. For example, suppose\n",
    "* Owner A employed Applicants X, Y, and Z (possibly in different permit applications),\n",
    "* Owner B employed Applicants W, X, Y, and Z, and\n",
    "* Owner C employed Applicants X and Y\n",
    "\n",
    "Then we have the following similarities:\n",
    "* similarity of A and B is 3 (they share X, Y, Z)\n",
    "* similarity of B and C is 2 (they share X, Y)\n",
    "* similarity of A and C is 2 (they share X, Y)\n",
    "\n",
    "Calculate the similarities between all pairs of Owner Business Names.\n",
    "\n",
    "### What is the maximum value of this similarity?\n",
    "\n",
    "NOTE: In the example above, the answer would be 3.\n",
    "\n",
    "NOTE: We don't care if an Owner has employed the same Applicant many times. For example, the similarity of A and C is 2 even if they each employed X and Y 100 times."
   ]
  },
  {
   "cell_type": "code",
   "execution_count": 28,
   "metadata": {},
   "outputs": [],
   "source": [
    "appown = permits[['Applicant Business Name', 'Owner Business Name']].drop_duplicates()"
   ]
  },
  {
   "cell_type": "code",
   "execution_count": 29,
   "metadata": {},
   "outputs": [
    {
     "data": {
      "text/html": [
       "<div>\n",
       "<style scoped>\n",
       "    .dataframe tbody tr th:only-of-type {\n",
       "        vertical-align: middle;\n",
       "    }\n",
       "\n",
       "    .dataframe tbody tr th {\n",
       "        vertical-align: top;\n",
       "    }\n",
       "\n",
       "    .dataframe thead th {\n",
       "        text-align: right;\n",
       "    }\n",
       "</style>\n",
       "<table border=\"1\" class=\"dataframe\">\n",
       "  <thead>\n",
       "    <tr style=\"text-align: right;\">\n",
       "      <th></th>\n",
       "      <th>Applicant Business Name</th>\n",
       "      <th>Owner Business Name_x</th>\n",
       "      <th>Owner Business Name_y</th>\n",
       "    </tr>\n",
       "  </thead>\n",
       "  <tbody>\n",
       "    <tr>\n",
       "      <th>0</th>\n",
       "      <td>P.H. WORKS INC</td>\n",
       "      <td>GREENACRE MANAGEMENT</td>\n",
       "      <td>GREENACRE MANAGEMENT</td>\n",
       "    </tr>\n",
       "    <tr>\n",
       "      <th>1</th>\n",
       "      <td>P.H. WORKS INC</td>\n",
       "      <td>GREENACRE MANAGEMENT</td>\n",
       "      <td>PR</td>\n",
       "    </tr>\n",
       "    <tr>\n",
       "      <th>2</th>\n",
       "      <td>P.H. WORKS INC</td>\n",
       "      <td>GREENACRE MANAGEMENT</td>\n",
       "      <td>MADISON REALTY CAPITAL</td>\n",
       "    </tr>\n",
       "    <tr>\n",
       "      <th>3</th>\n",
       "      <td>P.H. WORKS INC</td>\n",
       "      <td>GREENACRE MANAGEMENT</td>\n",
       "      <td>GD CAPITAL</td>\n",
       "    </tr>\n",
       "    <tr>\n",
       "      <th>4</th>\n",
       "      <td>P.H. WORKS INC</td>\n",
       "      <td>GREENACRE MANAGEMENT</td>\n",
       "      <td>J WASSER &amp; CO</td>\n",
       "    </tr>\n",
       "    <tr>\n",
       "      <th>...</th>\n",
       "      <td>...</td>\n",
       "      <td>...</td>\n",
       "      <td>...</td>\n",
       "    </tr>\n",
       "    <tr>\n",
       "      <th>1341967</th>\n",
       "      <td>IDEAL PLUMBING CORP</td>\n",
       "      <td>NaN</td>\n",
       "      <td>NaN</td>\n",
       "    </tr>\n",
       "    <tr>\n",
       "      <th>1341968</th>\n",
       "      <td>M. RAHMAN CONSTRUCTION CO</td>\n",
       "      <td>HPD</td>\n",
       "      <td>HPD</td>\n",
       "    </tr>\n",
       "    <tr>\n",
       "      <th>1341969</th>\n",
       "      <td>ZOUBEAR INC</td>\n",
       "      <td>NaN</td>\n",
       "      <td>NaN</td>\n",
       "    </tr>\n",
       "    <tr>\n",
       "      <th>1341970</th>\n",
       "      <td>PSP NY CONSTRUCTION, INC</td>\n",
       "      <td>JD 840 EAST NEW YORK FOOD CORP.</td>\n",
       "      <td>JD 840 EAST NEW YORK FOOD CORP.</td>\n",
       "    </tr>\n",
       "    <tr>\n",
       "      <th>1341971</th>\n",
       "      <td>KABACK ENTERPRISES</td>\n",
       "      <td>RFR</td>\n",
       "      <td>RFR</td>\n",
       "    </tr>\n",
       "  </tbody>\n",
       "</table>\n",
       "<p>1341972 rows × 3 columns</p>\n",
       "</div>"
      ],
      "text/plain": [
       "           Applicant Business Name            Owner Business Name_x  \\\n",
       "0                   P.H. WORKS INC             GREENACRE MANAGEMENT   \n",
       "1                   P.H. WORKS INC             GREENACRE MANAGEMENT   \n",
       "2                   P.H. WORKS INC             GREENACRE MANAGEMENT   \n",
       "3                   P.H. WORKS INC             GREENACRE MANAGEMENT   \n",
       "4                   P.H. WORKS INC             GREENACRE MANAGEMENT   \n",
       "...                            ...                              ...   \n",
       "1341967        IDEAL PLUMBING CORP                              NaN   \n",
       "1341968  M. RAHMAN CONSTRUCTION CO                              HPD   \n",
       "1341969                ZOUBEAR INC                              NaN   \n",
       "1341970   PSP NY CONSTRUCTION, INC  JD 840 EAST NEW YORK FOOD CORP.   \n",
       "1341971         KABACK ENTERPRISES                              RFR   \n",
       "\n",
       "                   Owner Business Name_y  \n",
       "0                   GREENACRE MANAGEMENT  \n",
       "1                                     PR  \n",
       "2                 MADISON REALTY CAPITAL  \n",
       "3                             GD CAPITAL  \n",
       "4                          J WASSER & CO  \n",
       "...                                  ...  \n",
       "1341967                              NaN  \n",
       "1341968                              HPD  \n",
       "1341969                              NaN  \n",
       "1341970  JD 840 EAST NEW YORK FOOD CORP.  \n",
       "1341971                              RFR  \n",
       "\n",
       "[1341972 rows x 3 columns]"
      ]
     },
     "execution_count": 29,
     "metadata": {},
     "output_type": "execute_result"
    }
   ],
   "source": [
    "merged = appown.merge(appown, on = 'Applicant Business Name')\n",
    "merged"
   ]
  },
  {
   "cell_type": "code",
   "execution_count": 30,
   "metadata": {},
   "outputs": [
    {
     "data": {
      "text/html": [
       "<div>\n",
       "<style scoped>\n",
       "    .dataframe tbody tr th:only-of-type {\n",
       "        vertical-align: middle;\n",
       "    }\n",
       "\n",
       "    .dataframe tbody tr th {\n",
       "        vertical-align: top;\n",
       "    }\n",
       "\n",
       "    .dataframe thead th {\n",
       "        text-align: right;\n",
       "    }\n",
       "</style>\n",
       "<table border=\"1\" class=\"dataframe\">\n",
       "  <thead>\n",
       "    <tr style=\"text-align: right;\">\n",
       "      <th></th>\n",
       "      <th>Applicant Business Name</th>\n",
       "      <th>Owner Business Name_x</th>\n",
       "      <th>Owner Business Name_y</th>\n",
       "    </tr>\n",
       "  </thead>\n",
       "  <tbody>\n",
       "    <tr>\n",
       "      <th>1</th>\n",
       "      <td>P.H. WORKS INC</td>\n",
       "      <td>GREENACRE MANAGEMENT</td>\n",
       "      <td>PR</td>\n",
       "    </tr>\n",
       "    <tr>\n",
       "      <th>2</th>\n",
       "      <td>P.H. WORKS INC</td>\n",
       "      <td>GREENACRE MANAGEMENT</td>\n",
       "      <td>MADISON REALTY CAPITAL</td>\n",
       "    </tr>\n",
       "    <tr>\n",
       "      <th>3</th>\n",
       "      <td>P.H. WORKS INC</td>\n",
       "      <td>GREENACRE MANAGEMENT</td>\n",
       "      <td>GD CAPITAL</td>\n",
       "    </tr>\n",
       "    <tr>\n",
       "      <th>4</th>\n",
       "      <td>P.H. WORKS INC</td>\n",
       "      <td>GREENACRE MANAGEMENT</td>\n",
       "      <td>J WASSER &amp; CO</td>\n",
       "    </tr>\n",
       "    <tr>\n",
       "      <th>5</th>\n",
       "      <td>P.H. WORKS INC</td>\n",
       "      <td>GREENACRE MANAGEMENT</td>\n",
       "      <td>FRONTGATE MANAGEMENT</td>\n",
       "    </tr>\n",
       "    <tr>\n",
       "      <th>...</th>\n",
       "      <td>...</td>\n",
       "      <td>...</td>\n",
       "      <td>...</td>\n",
       "    </tr>\n",
       "    <tr>\n",
       "      <th>1341947</th>\n",
       "      <td>ADD MECHANICAL INC</td>\n",
       "      <td>SECRETARY</td>\n",
       "      <td>ACUITY CAPITAL PARTNERS</td>\n",
       "    </tr>\n",
       "    <tr>\n",
       "      <th>1341950</th>\n",
       "      <td>GREEN AGE RENOVATIONS LLC</td>\n",
       "      <td>NaN</td>\n",
       "      <td>NaN</td>\n",
       "    </tr>\n",
       "    <tr>\n",
       "      <th>1341959</th>\n",
       "      <td>WULFING CONSTRUCTION LLC</td>\n",
       "      <td>NaN</td>\n",
       "      <td>NaN</td>\n",
       "    </tr>\n",
       "    <tr>\n",
       "      <th>1341967</th>\n",
       "      <td>IDEAL PLUMBING CORP</td>\n",
       "      <td>NaN</td>\n",
       "      <td>NaN</td>\n",
       "    </tr>\n",
       "    <tr>\n",
       "      <th>1341969</th>\n",
       "      <td>ZOUBEAR INC</td>\n",
       "      <td>NaN</td>\n",
       "      <td>NaN</td>\n",
       "    </tr>\n",
       "  </tbody>\n",
       "</table>\n",
       "<p>1318727 rows × 3 columns</p>\n",
       "</div>"
      ],
      "text/plain": [
       "           Applicant Business Name Owner Business Name_x  \\\n",
       "1                   P.H. WORKS INC  GREENACRE MANAGEMENT   \n",
       "2                   P.H. WORKS INC  GREENACRE MANAGEMENT   \n",
       "3                   P.H. WORKS INC  GREENACRE MANAGEMENT   \n",
       "4                   P.H. WORKS INC  GREENACRE MANAGEMENT   \n",
       "5                   P.H. WORKS INC  GREENACRE MANAGEMENT   \n",
       "...                            ...                   ...   \n",
       "1341947         ADD MECHANICAL INC             SECRETARY   \n",
       "1341950  GREEN AGE RENOVATIONS LLC                   NaN   \n",
       "1341959   WULFING CONSTRUCTION LLC                   NaN   \n",
       "1341967        IDEAL PLUMBING CORP                   NaN   \n",
       "1341969                ZOUBEAR INC                   NaN   \n",
       "\n",
       "           Owner Business Name_y  \n",
       "1                             PR  \n",
       "2         MADISON REALTY CAPITAL  \n",
       "3                     GD CAPITAL  \n",
       "4                  J WASSER & CO  \n",
       "5           FRONTGATE MANAGEMENT  \n",
       "...                          ...  \n",
       "1341947  ACUITY CAPITAL PARTNERS  \n",
       "1341950                      NaN  \n",
       "1341959                      NaN  \n",
       "1341967                      NaN  \n",
       "1341969                      NaN  \n",
       "\n",
       "[1318727 rows x 3 columns]"
      ]
     },
     "execution_count": 30,
     "metadata": {},
     "output_type": "execute_result"
    }
   ],
   "source": [
    "merged = merged[merged['Owner Business Name_x'] != merged['Owner Business Name_y']]\n",
    "merged"
   ]
  },
  {
   "cell_type": "code",
   "execution_count": 31,
   "metadata": {},
   "outputs": [
    {
     "name": "stdout",
     "output_type": "stream",
     "text": [
      "Wall time: 761 ms\n"
     ]
    },
    {
     "data": {
      "text/html": [
       "<div>\n",
       "<style scoped>\n",
       "    .dataframe tbody tr th:only-of-type {\n",
       "        vertical-align: middle;\n",
       "    }\n",
       "\n",
       "    .dataframe tbody tr th {\n",
       "        vertical-align: top;\n",
       "    }\n",
       "\n",
       "    .dataframe thead th {\n",
       "        text-align: right;\n",
       "    }\n",
       "</style>\n",
       "<table border=\"1\" class=\"dataframe\">\n",
       "  <thead>\n",
       "    <tr style=\"text-align: right;\">\n",
       "      <th></th>\n",
       "      <th></th>\n",
       "      <th>Applicant Business Name</th>\n",
       "    </tr>\n",
       "    <tr>\n",
       "      <th>Owner Business Name_x</th>\n",
       "      <th>Owner Business Name_y</th>\n",
       "      <th></th>\n",
       "    </tr>\n",
       "  </thead>\n",
       "  <tbody>\n",
       "    <tr>\n",
       "      <th>PR</th>\n",
       "      <th>VORNADO REALTY TRUST</th>\n",
       "      <td>87</td>\n",
       "    </tr>\n",
       "    <tr>\n",
       "      <th>VORNADO REALTY TRUST</th>\n",
       "      <th>PR</th>\n",
       "      <td>87</td>\n",
       "    </tr>\n",
       "    <tr>\n",
       "      <th>PR</th>\n",
       "      <th>TISHMAN SPEYER</th>\n",
       "      <td>70</td>\n",
       "    </tr>\n",
       "    <tr>\n",
       "      <th>TISHMAN SPEYER</th>\n",
       "      <th>PR</th>\n",
       "      <td>70</td>\n",
       "    </tr>\n",
       "    <tr>\n",
       "      <th>PR</th>\n",
       "      <th>SL GREEN REALTY CORP</th>\n",
       "      <td>69</td>\n",
       "    </tr>\n",
       "    <tr>\n",
       "      <th>...</th>\n",
       "      <th>...</th>\n",
       "      <td>...</td>\n",
       "    </tr>\n",
       "    <tr>\n",
       "      <th rowspan=\"4\" valign=\"top\">HOME AWAY FROM HOME COMME</th>\n",
       "      <th>ESQUIRE MANAGEMENT CORP.</th>\n",
       "      <td>1</td>\n",
       "    </tr>\n",
       "    <tr>\n",
       "      <th>EQUITY RESIDENTIAL</th>\n",
       "      <td>1</td>\n",
       "    </tr>\n",
       "    <tr>\n",
       "      <th>EMANUEL  LOBUE</th>\n",
       "      <td>1</td>\n",
       "    </tr>\n",
       "    <tr>\n",
       "      <th>DURST ORGANIZATION</th>\n",
       "      <td>1</td>\n",
       "    </tr>\n",
       "    <tr>\n",
       "      <th>EQUITY RESIDENTIAL</th>\n",
       "      <th>VALENZA CONTRACTORS,INC</th>\n",
       "      <td>1</td>\n",
       "    </tr>\n",
       "  </tbody>\n",
       "</table>\n",
       "<p>1227424 rows × 1 columns</p>\n",
       "</div>"
      ],
      "text/plain": [
       "                                                    Applicant Business Name\n",
       "Owner Business Name_x     Owner Business Name_y                            \n",
       "PR                        VORNADO REALTY TRUST                           87\n",
       "VORNADO REALTY TRUST      PR                                             87\n",
       "PR                        TISHMAN SPEYER                                 70\n",
       "TISHMAN SPEYER            PR                                             70\n",
       "PR                        SL GREEN REALTY CORP                           69\n",
       "...                                                                     ...\n",
       "HOME AWAY FROM HOME COMME ESQUIRE MANAGEMENT CORP.                        1\n",
       "                          EQUITY RESIDENTIAL                              1\n",
       "                          EMANUEL  LOBUE                                  1\n",
       "                          DURST ORGANIZATION                              1\n",
       "EQUITY RESIDENTIAL        VALENZA CONTRACTORS,INC                         1\n",
       "\n",
       "[1227424 rows x 1 columns]"
      ]
     },
     "execution_count": 31,
     "metadata": {},
     "output_type": "execute_result"
    }
   ],
   "source": [
    "%%time\n",
    "merged.groupby(['Owner Business Name_x', 'Owner Business Name_y']).count().sort_values(by = 'Applicant Business Name', ascending = False) + 1"
   ]
  },
  {
   "cell_type": "code",
   "execution_count": null,
   "metadata": {},
   "outputs": [],
   "source": []
  }
 ],
 "metadata": {
  "kernelspec": {
   "display_name": "Python 3",
   "language": "python",
   "name": "python3"
  },
  "language_info": {
   "codemirror_mode": {
    "name": "ipython",
    "version": 3
   },
   "file_extension": ".py",
   "mimetype": "text/x-python",
   "name": "python",
   "nbconvert_exporter": "python",
   "pygments_lexer": "ipython3",
   "version": "3.7.7"
  }
 },
 "nbformat": 4,
 "nbformat_minor": 4
}
